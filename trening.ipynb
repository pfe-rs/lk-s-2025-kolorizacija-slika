{
 "cells": [
  {
   "cell_type": "code",
   "execution_count": 1,
   "id": "a6048e9c",
   "metadata": {},
   "outputs": [],
   "source": [
    "from generator import Generator\n",
    "from discriminator import Discriminator\n",
    "from BaseColor import *\n",
    "\n",
    "# --- Inicijalizacija ---\n",
    "import torch\n",
    "import torch.nn as nn\n",
    "import numpy as np\n",
    "import matplotlib.pyplot as plt\n",
    "import cv2\n",
    "import matplotlib.pyplot as plt\n",
    "from torch.optim import Adam\n",
    "from torch.nn import L1Loss, BCELoss\n",
    "\n",
    "device = torch.device(\"cuda\" if torch.cuda.is_available() else \"cpu\")"
   ]
  },
  {
   "cell_type": "code",
   "execution_count": 2,
   "id": "9c56e0fa",
   "metadata": {},
   "outputs": [],
   "source": [
    "gen = Generator().to(device)\n",
    "disc = Discriminator().to(device)\n",
    "\n",
    "gen_opt = torch.optim.Adam(gen.parameters(), lr=2e-4, betas=(0.5, 0.999))\n",
    "disc_opt = torch.optim.Adam(disc.parameters(), lr=2e-4, betas=(0.5, 0.999))"
   ]
  },
  {
   "cell_type": "code",
   "execution_count": 3,
   "id": "e7e95e68",
   "metadata": {},
   "outputs": [],
   "source": [
    "\n",
    "bce_loss = nn.BCELoss()\n",
    "LAMBDA = 100\n",
    "\n",
    "def generator_loss(disc_generated_output, gen_output, target):\n",
    "    # GAN loss\n",
    "    gan_loss = bce_loss(disc_generated_output, torch.ones_like(disc_generated_output))\n",
    "    \n",
    "    # L1 loss\n",
    "    l1_loss = F.l1_loss(gen_output, target)\n",
    "\n",
    "    total_gen_loss = gan_loss + LAMBDA * l1_loss\n",
    "    return total_gen_loss, gan_loss, l1_loss\n",
    "\n",
    "def discriminator_loss(disc_real_output, disc_generated_output):\n",
    "    real_loss = bce_loss(disc_real_output, torch.ones_like(disc_real_output))\n",
    "    fake_loss = bce_loss(disc_generated_output, torch.zeros_like(disc_generated_output))\n",
    "    total_disc_loss = real_loss + fake_loss\n",
    "    return total_disc_loss\n"
   ]
  },
  {
   "cell_type": "code",
   "execution_count": 4,
   "id": "dcd04fd1",
   "metadata": {},
   "outputs": [],
   "source": [
    "def train_step(input_l, target_ab, generator, discriminator,\n",
    "               gen_optimizer, disc_optimizer):\n",
    "    generator.train()\n",
    "    discriminator.train()\n",
    "\n",
    "    input_l = input_l.to(device)          # (1, 1, 256, 256)\n",
    "    target_ab = target_ab.to(device)      # (1, 2, 256, 256)\n",
    "\n",
    "    real_lab = torch.cat([input_l, target_ab], dim=1)  # (1, 3, 256, 256)\n",
    "\n",
    "    # ----- Generator -----\n",
    "    fake_ab = generator(input_l)                          # (1, 2, 256, 256)\n",
    "    fake_lab = torch.cat([input_l, fake_ab], dim=1)       # (1, 3, 256, 256)\n",
    "\n",
    "    # ----- Discriminator -----\n",
    "    disc_real_output = discriminator(input_img=input_l.repeat(1,3,1,1), target_img=real_lab)\n",
    "    disc_fake_output = discriminator(input_img=input_l.repeat(1,3,1,1), target_img=fake_lab.detach())\n",
    "\n",
    "    # Losses\n",
    "    disc_loss = discriminator_loss(disc_real_output, disc_fake_output)\n",
    "\n",
    "    disc_optimizer.zero_grad()\n",
    "    disc_loss.backward()\n",
    "    disc_optimizer.step()\n",
    "\n",
    "    # Generator loss (after disc update)\n",
    "    disc_fake_output = discriminator(input_img=input_l.repeat(1,3,1,1), target_img=fake_lab)\n",
    "    gen_loss, gan_loss, l1_loss = generator_loss(disc_fake_output, fake_ab, target_ab)\n",
    "\n",
    "    gen_optimizer.zero_grad()\n",
    "    gen_loss.backward()\n",
    "    gen_optimizer.step()\n",
    "\n",
    "    return gen_loss.item(), disc_loss.item()\n"
   ]
  },
  {
   "cell_type": "code",
   "execution_count": 5,
   "id": "d02e7b04",
   "metadata": {},
   "outputs": [],
   "source": [
    "num_epochs = 50"
   ]
  },
  {
   "cell_type": "code",
   "execution_count": null,
   "id": "13215975",
   "metadata": {},
   "outputs": [],
   "source": [
    "for epoch in range(num_epochs):\n",
    "\tfor input_l, target_ab in dataloader:  # sredi dataloader\n",
    "\t\tlosses = train_step(gen, disc, gen_opt, disc_opt, input_l, target_ab, device)\n",
    "\t\tprint(f\"Ep {epoch}: Gen={losses['gen_total']:.3f}, D={losses['disc']:.3f}\")\n"
   ]
  },
  {
   "cell_type": "markdown",
   "id": "f92256d9",
   "metadata": {},
   "source": [
    "# Testiranje generatora"
   ]
  },
  {
   "cell_type": "code",
   "execution_count": 6,
   "id": "dd42a344",
   "metadata": {},
   "outputs": [
    {
     "data": {
      "text/plain": [
       "(torch.Size([1, 1, 256, 256]), torch.Size([1, 2, 256, 256]), (256, 256, 3))"
      ]
     },
     "execution_count": 6,
     "metadata": {},
     "output_type": "execute_result"
    }
   ],
   "source": [
    "(tens_l, tens_ab, img_lab ) = preprocess_img(load_img(\"imgs\\\\n01818515_67.JPEG\"))\n",
    "tens_l.shape, tens_ab.shape, img_lab.shape"
   ]
  },
  {
   "cell_type": "code",
   "execution_count": 7,
   "id": "f4eff872",
   "metadata": {},
   "outputs": [
    {
     "data": {
      "text/plain": [
       "(torch.Size([1, 2, 256, 256]), torch.Size([1, 3, 256, 256]))"
      ]
     },
     "execution_count": 7,
     "metadata": {},
     "output_type": "execute_result"
    }
   ],
   "source": [
    "\n",
    "with torch.no_grad():\n",
    "    ab_output = gen(tens_l) # 1 x 2 x H x W\n",
    "out = postprocess_img(ab_output, tens_l)\n",
    "ab_output.shape , out.shape"
   ]
  },
  {
   "cell_type": "markdown",
   "id": "ff7c74cb",
   "metadata": {},
   "source": [
    "# Testiranje diskriminatora"
   ]
  },
  {
   "cell_type": "code",
   "execution_count": 8,
   "id": "d8a42a0c",
   "metadata": {},
   "outputs": [],
   "source": [
    "\n",
    "input_l = tens_l.to(device)          # (1, 1, 256, 256) #original l\n",
    "target_ab =tens_ab.to(device)      # (1, 2, 256, 256)   # originalni ab\n",
    "real_lab = torch.cat([input_l, target_ab], dim=1)  # (1, 3, 256, 256) \n",
    "\n",
    "\n",
    "disc_real_output = disc(input_img=input_l.repeat(1,3,1,1), target_img=real_lab)\n",
    "disc_fake_output = disc(input_img=input_l.repeat(1,3,1,1), target_img=out.detach())"
   ]
  },
  {
   "cell_type": "code",
   "execution_count": 12,
   "id": "90d2b0c9",
   "metadata": {},
   "outputs": [
    {
     "data": {
      "text/plain": [
       "==========================================================================================\n",
       "Layer (type:depth-idx)                   Output Shape              Param #\n",
       "==========================================================================================\n",
       "Discriminator                            [1, 30, 30]               --\n",
       "├─Conv2d: 1-1                            [1, 64, 128, 128]         6,144\n",
       "├─LeakyReLU: 1-2                         [1, 64, 128, 128]         --\n",
       "├─Conv2d: 1-3                            [1, 128, 64, 64]          131,072\n",
       "├─BatchNorm2d: 1-4                       [1, 128, 64, 64]          256\n",
       "├─LeakyReLU: 1-5                         [1, 128, 64, 64]          --\n",
       "├─Conv2d: 1-6                            [1, 256, 32, 32]          524,288\n",
       "├─BatchNorm2d: 1-7                       [1, 256, 32, 32]          512\n",
       "├─LeakyReLU: 1-8                         [1, 256, 32, 32]          --\n",
       "├─ZeroPad2d: 1-9                         [1, 256, 34, 34]          --\n",
       "├─Conv2d: 1-10                           [1, 512, 31, 31]          2,097,152\n",
       "├─BatchNorm2d: 1-11                      [1, 512, 31, 31]          1,024\n",
       "├─LeakyReLU: 1-12                        [1, 512, 31, 31]          --\n",
       "├─ZeroPad2d: 1-13                        [1, 512, 33, 33]          --\n",
       "├─Conv2d: 1-14                           [1, 1, 30, 30]            8,193\n",
       "==========================================================================================\n",
       "Total params: 2,768,641\n",
       "Trainable params: 2,768,641\n",
       "Non-trainable params: 0\n",
       "Total mult-adds (Units.GIGABYTES): 3.20\n",
       "==========================================================================================\n",
       "Input size (MB): 1.57\n",
       "Forward/backward pass size (MB): 28.85\n",
       "Params size (MB): 11.07\n",
       "Estimated Total Size (MB): 41.50\n",
       "=========================================================================================="
      ]
     },
     "execution_count": 12,
     "metadata": {},
     "output_type": "execute_result"
    }
   ],
   "source": [
    "from torchinfo import summary\n",
    "\n",
    "summary(disc, input_data=[torch.randn(1,3,256,256), torch.randn(1,3,256,256)])\n"
   ]
  },
  {
   "cell_type": "code",
   "execution_count": null,
   "id": "1708e575",
   "metadata": {},
   "outputs": [],
   "source": []
  }
 ],
 "metadata": {
  "kernelspec": {
   "display_name": "Python 3",
   "language": "python",
   "name": "python3"
  },
  "language_info": {
   "codemirror_mode": {
    "name": "ipython",
    "version": 3
   },
   "file_extension": ".py",
   "mimetype": "text/x-python",
   "name": "python",
   "nbconvert_exporter": "python",
   "pygments_lexer": "ipython3",
   "version": "3.12.2"
  }
 },
 "nbformat": 4,
 "nbformat_minor": 5
}
