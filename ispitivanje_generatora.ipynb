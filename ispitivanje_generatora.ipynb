{
 "cells": [
  {
   "cell_type": "code",
   "execution_count": 2,
   "id": "87cef1b1",
   "metadata": {},
   "outputs": [],
   "source": [
    "import torch\n",
    "import torch.nn as nn\n",
    "import numpy as np\n",
    "import matplotlib.pyplot as plt\n",
    "import cv2\n",
    "\n",
    "from generator import Generator\n",
    "from BaseColor import BaseColor\n",
    "\n",
    "device = torch.device(\"cuda\" if torch.cuda.is_available() else \"cpu\")\n"
   ]
  },
  {
   "cell_type": "code",
   "execution_count": 4,
   "id": "83a4021e",
   "metadata": {},
   "outputs": [
    {
     "name": "stdout",
     "output_type": "stream",
     "text": [
      "Broj parametara Generatora: 25155563\n"
     ]
    }
   ],
   "source": [
    "G = Generator()\n",
    "G = G.to(device)\n",
    "G.eval()  \n",
    "\n",
    "def broj_parametara(model):\n",
    "    return sum(p.numel() for p in model.parameters() if p.requires_grad)\n",
    "\n",
    "print(\"Broj parametara Generatora:\", broj_parametara(G))\n"
   ]
  },
  {
   "cell_type": "code",
   "execution_count": 5,
   "id": "314d6d2b",
   "metadata": {},
   "outputs": [
    {
     "name": "stdout",
     "output_type": "stream",
     "text": [
      "Oblik izlaza iz generatora (AB kanali): torch.Size([1, 2, 256, 256])\n",
      "Min vrednost izlaza: -0.3720718026161194\n",
      "Max vrednost izlaza: -0.26477399468421936\n"
     ]
    }
   ],
   "source": [
    "L_tensor = torch.rand(1, 1, 256, 256).to(device) * 2 - 1\n",
    "\n",
    "with torch.no_grad():\n",
    "    ab_output = G(L_tensor)\n",
    "\n",
    "print(\"Oblik izlaza iz generatora (AB kanali):\", ab_output.shape)\n",
    "print(\"Min vrednost izlaza:\", ab_output.min().item())\n",
    "print(\"Max vrednost izlaza:\", ab_output.max().item())\n"
   ]
  }
 ],
 "metadata": {
  "kernelspec": {
   "display_name": "Python 3",
   "language": "python",
   "name": "python3"
  },
  "language_info": {
   "codemirror_mode": {
    "name": "ipython",
    "version": 3
   },
   "file_extension": ".py",
   "mimetype": "text/x-python",
   "name": "python",
   "nbconvert_exporter": "python",
   "pygments_lexer": "ipython3",
   "version": "3.9.1"
  }
 },
 "nbformat": 4,
 "nbformat_minor": 5
}
