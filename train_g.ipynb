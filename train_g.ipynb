version https://git-lfs.github.com/spec/v1
oid sha256:9d6197669f962ba62a636f609e537b42c3b761e1bc18f2d3f2529b26e6070669
size 1542775
