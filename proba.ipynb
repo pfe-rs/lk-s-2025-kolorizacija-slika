{
 "cells": [
  {
   "cell_type": "code",
   "execution_count": 1,
   "id": "793449c4",
   "metadata": {},
   "outputs": [],
   "source": [
    "\n",
    "from PIL import Image\n",
    "import numpy as np\n",
    "from skimage import color\n",
    "import torch\n",
    "import torch.nn.functional as F\n",
    "from IPython import embed\n"
   ]
  },
  {
   "cell_type": "code",
   "execution_count": 2,
   "id": "76c0ef41",
   "metadata": {},
   "outputs": [],
   "source": [
    "\n",
    "def load_img(img_path):\n",
    "\tout_np = np.asarray(Image.open(img_path))\n",
    "\tif(out_np.ndim==2):\n",
    "\t\tout_np = np.tile(out_np[:,:,None],3)\n",
    "\treturn out_np"
   ]
  },
  {
   "cell_type": "code",
   "execution_count": null,
   "id": "f5c39c62",
   "metadata": {},
   "outputs": [],
   "source": [
    "\n",
    "def resize_img(img, HW=(256,256), resample=3):\n",
    "\treturn np.asarray(Image.fromarray(img).resize((HW[1],HW[0]), resample=resample))\n",
    "\n",
    "def preprocess_img(img_rgb_orig, HW=(256,256), resample=3):\n",
    "\timg_rgb_rs = resize_img(img_rgb_orig, HW=HW, resample=resample)\n",
    "\t\n",
    "\timg_lab_orig = color.rgb2lab(img_rgb_orig)\n",
    "\timg_lab_rs = color.rgb2lab(img_rgb_rs)\n",
    "\n",
    "\timg_l_orig = img_lab_orig[:,:,0]\n",
    "\timg_l_rs = img_lab_rs[:,:,0]\n",
    "\n",
    "\ttens_orig_l = torch.Tensor(img_l_orig)[None,None,:,:]\n",
    "\ttens_rs_l = torch.Tensor(img_l_rs)[None,None,:,:]\n",
    "\n",
    "\treturn (tens_orig_l, tens_rs_l)\n"
   ]
  },
  {
   "cell_type": "code",
   "execution_count": 7,
   "id": "c846fd41",
   "metadata": {},
   "outputs": [],
   "source": [
    "img = load_img('images_pfe/train.X1/n01440764/n01440764_18.JPEG')\n",
    "(tens_l_orig, tens_l_rs) = preprocess_img(img, HW=(256,256))"
   ]
  },
  {
   "cell_type": "code",
   "execution_count": 8,
   "id": "4c257659",
   "metadata": {},
   "outputs": [
    {
     "data": {
      "text/plain": [
       "tensor([[[[38.6937, 46.3169, 53.9868,  ..., 55.8273, 48.0612, 55.1706],\n",
       "          [42.3479, 52.8576, 44.8938,  ..., 50.3424, 44.2084, 64.3532],\n",
       "          [50.4011, 64.9767, 46.4931,  ..., 36.8938, 36.9398, 70.2091],\n",
       "          ...,\n",
       "          [40.6589, 58.2287, 45.0602,  ..., 47.7950, 46.6840, 43.6518],\n",
       "          [33.3534, 53.9869, 56.3323,  ..., 49.7617, 45.3585, 45.1699],\n",
       "          [30.2880, 36.5992, 41.2183,  ..., 43.9231, 51.5714, 48.0015]]]])"
      ]
     },
     "execution_count": 8,
     "metadata": {},
     "output_type": "execute_result"
    }
   ],
   "source": [
    "tens_l_orig"
   ]
  },
  {
   "cell_type": "code",
   "execution_count": 9,
   "id": "46a9c903",
   "metadata": {},
   "outputs": [
    {
     "data": {
      "text/plain": [
       "tensor([[[[44.4357, 50.7991, 42.5310,  ..., 54.8837, 48.6001, 55.6640],\n",
       "          [53.7589, 46.7472, 42.0097,  ..., 57.9683, 43.8324, 57.2689],\n",
       "          [41.7588, 37.0944, 42.7864,  ..., 34.5135, 51.4527, 44.4820],\n",
       "          ...,\n",
       "          [47.0484, 44.9467, 36.3939,  ..., 46.9612, 49.4806, 50.5754],\n",
       "          [48.0423, 48.5843, 42.5168,  ..., 47.2620, 49.3217, 48.0631],\n",
       "          [36.3404, 48.9531, 48.7462,  ..., 46.2134, 47.3190, 46.9166]]]])"
      ]
     },
     "execution_count": 9,
     "metadata": {},
     "output_type": "execute_result"
    }
   ],
   "source": [
    "tens_l_rs"
   ]
  }
 ],
 "metadata": {
  "kernelspec": {
   "display_name": "Python 3",
   "language": "python",
   "name": "python3"
  },
  "language_info": {
   "codemirror_mode": {
    "name": "ipython",
    "version": 3
   },
   "file_extension": ".py",
   "mimetype": "text/x-python",
   "name": "python",
   "nbconvert_exporter": "python",
   "pygments_lexer": "ipython3",
   "version": "3.9.1"
  }
 },
 "nbformat": 4,
 "nbformat_minor": 5
}
