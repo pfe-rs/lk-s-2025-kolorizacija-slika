{
 "cells": [
  {
   "cell_type": "code",
   "execution_count": 12,
   "id": "793449c4",
   "metadata": {},
   "outputs": [],
   "source": [
    "\n",
    "from PIL import Image\n",
    "import numpy as np\n",
    "from skimage import color\n",
    "import torch\n",
    "import torch.nn.functional as F\n",
    "from IPython import embed\n"
   ]
  },
  {
   "cell_type": "code",
   "execution_count": 13,
   "id": "76c0ef41",
   "metadata": {},
   "outputs": [],
   "source": [
    "\n",
    "def load_img(img_path):\n",
    "\tout_np = np.asarray(Image.open(img_path))\n",
    "\tif(out_np.ndim==2):\n",
    "\t\tout_np = np.tile(out_np[:,:,None],3)\n",
    "\treturn out_np"
   ]
  },
  {
   "cell_type": "code",
   "execution_count": 14,
   "id": "f5c39c62",
   "metadata": {},
   "outputs": [],
   "source": [
    "\n",
    "def resize_img(img, HW=(256,256), resample=3):\n",
    "\treturn np.asarray(Image.fromarray(img).resize((HW[1],HW[0]), resample=resample))\n",
    "\n",
    "def preprocess_img(img_rgb_orig, HW=(256,256), resample=3):\n",
    "\timg_rgb_rs = resize_img(img_rgb_orig, HW=HW, resample=resample)\n",
    "\t\n",
    "\timg_lab_orig = color.rgb2lab(img_rgb_orig)\n",
    "\timg_lab_rs = color.rgb2lab(img_rgb_rs)\n",
    "\n",
    "\timg_l_orig = img_lab_orig[:,:,0]\n",
    "\timg_l_rs = img_lab_rs[:,:,0]\n",
    "\n",
    "\ttens_orig_l = torch.Tensor(img_l_orig)[None,None,:,:]\n",
    "\ttens_rs_l = torch.Tensor(img_l_rs)[None,None,:,:]\n",
    "\n",
    "\treturn (tens_orig_l, tens_rs_l)\n"
   ]
  },
  {
   "cell_type": "code",
   "execution_count": 15,
   "id": "c846fd41",
   "metadata": {},
   "outputs": [],
   "source": [
    "img = load_img('imgs_in\\\\n01582220_11.JPEG')\n",
    "(tens_l_orig, tens_l_rs) = preprocess_img(img, HW=(256,256))"
   ]
  },
  {
   "cell_type": "code",
   "execution_count": 16,
   "id": "4c257659",
   "metadata": {},
   "outputs": [
    {
     "data": {
      "text/plain": [
       "tensor([[[[53.6019, 52.2479, 53.6620,  ..., 66.5553, 63.2250, 58.3849],\n",
       "          [54.3845, 53.8185, 55.6136,  ..., 65.8040, 62.7815, 59.1537],\n",
       "          [55.6836, 56.1581, 57.9382,  ..., 63.9182, 61.2594, 58.2589],\n",
       "          ...,\n",
       "          [33.4007, 33.4033, 30.1476,  ..., 50.7417, 51.3325, 49.1364],\n",
       "          [38.8757, 37.1698, 29.2119,  ..., 50.1484, 50.5437, 47.9968],\n",
       "          [44.1243, 42.2951, 32.6910,  ..., 50.9383, 51.1675, 48.3952]]]])"
      ]
     },
     "execution_count": 16,
     "metadata": {},
     "output_type": "execute_result"
    }
   ],
   "source": [
    "tens_l_orig"
   ]
  },
  {
   "cell_type": "code",
   "execution_count": 17,
   "id": "46a9c903",
   "metadata": {},
   "outputs": [
    {
     "data": {
      "text/plain": [
       "tensor([[[[53.0635, 52.6319, 53.2628,  ..., 68.9802, 67.6791, 60.8674],\n",
       "          [54.7163, 55.3700, 52.7204,  ..., 67.7986, 66.6305, 60.7272],\n",
       "          [56.5462, 57.6963, 53.4755,  ..., 66.8822, 65.5031, 60.1456],\n",
       "          ...,\n",
       "          [34.0815, 28.0232, 17.7864,  ..., 43.4641, 50.2219, 51.2349],\n",
       "          [36.6680, 27.6998, 20.0108,  ..., 44.1940, 49.3562, 49.3336],\n",
       "          [42.5470, 30.4853, 24.0396,  ..., 43.7660, 49.7526, 49.9828]]]])"
      ]
     },
     "execution_count": 17,
     "metadata": {},
     "output_type": "execute_result"
    }
   ],
   "source": [
    "tens_l_rs"
   ]
  },
  {
   "cell_type": "code",
   "execution_count": 18,
   "id": "28f45cc4",
   "metadata": {},
   "outputs": [],
   "source": [
    "from generator import *"
   ]
  },
  {
   "cell_type": "code",
   "execution_count": null,
   "id": "9a184934",
   "metadata": {},
   "outputs": [],
   "source": []
  }
 ],
 "metadata": {
  "kernelspec": {
   "display_name": "Python 3",
   "language": "python",
   "name": "python3"
  },
  "language_info": {
   "codemirror_mode": {
    "name": "ipython",
    "version": 3
   },
   "file_extension": ".py",
   "mimetype": "text/x-python",
   "name": "python",
   "nbconvert_exporter": "python",
   "pygments_lexer": "ipython3",
   "version": "3.12.2"
  }
 },
 "nbformat": 4,
 "nbformat_minor": 5
}
